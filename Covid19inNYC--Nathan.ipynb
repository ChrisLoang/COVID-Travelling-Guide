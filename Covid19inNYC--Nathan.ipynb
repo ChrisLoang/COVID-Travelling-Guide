{
  "nbformat": 4,
  "nbformat_minor": 0,
  "metadata": {
    "kernelspec": {
      "display_name": "Python 3",
      "language": "python",
      "name": "python3"
    },
    "language_info": {
      "codemirror_mode": {
        "name": "ipython",
        "version": 3
      },
      "file_extension": ".py",
      "mimetype": "text/x-python",
      "name": "python",
      "nbconvert_exporter": "python",
      "pygments_lexer": "ipython3",
      "version": "3.8.5"
    },
    "colab": {
      "name": "Covid19inNYC.ipynb",
      "provenance": []
    }
  },
  "cells": [
    {
      "cell_type": "code",
      "metadata": {
        "id": "CU2v3d-Muj-i"
      },
      "source": [
        "import pandas as pd\n",
        "import numpy as np\n",
        "import csv\n",
        "import matplotlib.pyplot as plt\n",
        "\n",
        "import traindatanyc as tdn"
      ],
      "execution_count": 55,
      "outputs": []
    },
    {
      "cell_type": "code",
      "metadata": {
        "id": "EZxQbaqMuj-k"
      },
      "source": [
        "df = pd.read_csv('data-by-modzcta.csv', sep=',')\n",
        "columns_to_drop = ['COVID_DEATH_COUNT', 'COVID_DEATH_RATE','NEIGHBORHOOD_NAME', 'MODIFIED_ZCTA', 'PERCENT_POSITIVE']\n",
        "df.drop(columns= columns_to_drop,inplace=True)\n",
        "\n",
        "Mh_total_CCC = df.loc[df['BOROUGH_GROUP'] == 'Manhattan', 'COVID_CASE_COUNT'].sum()\n",
        "Si_total_CCC = df.loc[df['BOROUGH_GROUP'] == 'Staten Island', 'COVID_CASE_COUNT'].sum()\n",
        "Bk_total_CCC = df.loc[df['BOROUGH_GROUP'] == 'Brooklyn', 'COVID_CASE_COUNT'].sum()\n",
        "Q_total_CCC = df.loc[df['BOROUGH_GROUP'] == 'Queens', 'COVID_CASE_COUNT'].sum()\n",
        "Bx_total_CCC = df.loc[df['BOROUGH_GROUP'] == 'Bronx', 'COVID_CASE_COUNT'].sum()\n",
        "\n",
        "Mh_total_TCT = df.loc[df['BOROUGH_GROUP'] == 'Manhattan', 'TOTAL_COVID_TESTS'].sum()\n",
        "Si_total_TCT = df.loc[df['BOROUGH_GROUP'] == 'Staten Island', 'TOTAL_COVID_TESTS'].sum()\n",
        "Bk_total_TCT = df.loc[df['BOROUGH_GROUP'] == 'Brooklyn', 'TOTAL_COVID_TESTS'].sum()\n",
        "Q_total_TCT = df.loc[df['BOROUGH_GROUP'] == 'Queens', 'TOTAL_COVID_TESTS'].sum()\n",
        "Bx_total_TCT = df.loc[df['BOROUGH_GROUP'] == 'Bronx', 'TOTAL_COVID_TESTS'].sum()\n",
        "\n",
        "Mh_total_CCR = df.loc[df['BOROUGH_GROUP'] == 'Manhattan', 'COVID_CASE_RATE'].sum()\n",
        "Si_total_CCR = df.loc[df['BOROUGH_GROUP'] == 'Staten Island', 'COVID_CASE_RATE'].sum()\n",
        "Bk_total_CCR = df.loc[df['BOROUGH_GROUP'] == 'Brooklyn', 'COVID_CASE_RATE'].sum()\n",
        "Q_total_CCR = df.loc[df['BOROUGH_GROUP'] == 'Queens', 'COVID_CASE_RATE'].sum()\n",
        "Bx_total_CCR = df.loc[df['BOROUGH_GROUP'] == 'Bronx', 'COVID_CASE_RATE'].sum()\n",
        "\n",
        "Mh_total_PD = df.loc[df['BOROUGH_GROUP'] == 'Manhattan', 'POP_DENOMINATOR'].sum()\n",
        "Si_total_PD = df.loc[df['BOROUGH_GROUP'] == 'Staten Island', 'POP_DENOMINATOR'].sum()\n",
        "Bk_total_PD = df.loc[df['BOROUGH_GROUP'] == 'Brooklyn', 'POP_DENOMINATOR'].sum()\n",
        "Q_total_PD = df.loc[df['BOROUGH_GROUP'] == 'Queens', 'POP_DENOMINATOR'].sum()\n",
        "Bx_total_PD = df.loc[df['BOROUGH_GROUP'] == 'Bronx', 'POP_DENOMINATOR'].sum()\n",
        "\n",
        "df = df[0:0]\n",
        "\n",
        "Mh_total_CCR = (Mh_total_CCC/Mh_total_PD)*100\n",
        "Si_total_CCR = (Si_total_CCC/Si_total_PD)*100\n",
        "Bk_total_CCR = (Bk_total_CCC/Bk_total_PD)*100\n",
        "Q_total_CCR = (Q_total_CCC/Q_total_PD)*100\n",
        "Bx_total_CCR = (Bx_total_CCC/Bx_total_PD)*100\n",
        "\n",
        "df2 = {'BOROUGH_GROUP': 'Manhattan',  'COVID_CASE_COUNT': Mh_total_CCC,  'COVID_CASE_RATE': Mh_total_CCR, 'POP_DENOMINATOR': Mh_total_PD, 'TOTAL_COVID_TESTS': Mh_total_TCT} \n",
        "df = df.append(df2, ignore_index = True)\n",
        "df3 = {'BOROUGH_GROUP': 'Staten Island',  'COVID_CASE_COUNT': Si_total_CCC,  'COVID_CASE_RATE': Si_total_CCR, 'POP_DENOMINATOR': Si_total_PD, 'TOTAL_COVID_TESTS': Si_total_TCT} \n",
        "df = df.append(df3, ignore_index = True)\n",
        "df4 = {'BOROUGH_GROUP': 'Brooklyn',  'COVID_CASE_COUNT': Bk_total_CCC,  'COVID_CASE_RATE': Bk_total_CCR, 'POP_DENOMINATOR': Bk_total_PD, 'TOTAL_COVID_TESTS': Bk_total_TCT} \n",
        "df = df.append(df4, ignore_index = True)\n",
        "df5 = {'BOROUGH_GROUP': 'Queens',  'COVID_CASE_COUNT': Q_total_CCC,  'COVID_CASE_RATE': Q_total_CCR, 'POP_DENOMINATOR': Q_total_PD, 'TOTAL_COVID_TESTS': Q_total_TCT} \n",
        "df = df.append(df5, ignore_index = True)\n",
        "df6 = {'BOROUGH_GROUP': 'Bronx',  'COVID_CASE_COUNT': Bx_total_CCC,  'COVID_CASE_RATE': Bx_total_CCR, 'POP_DENOMINATOR': Bx_total_PD, 'TOTAL_COVID_TESTS': Bx_total_TCT} \n",
        "df = df.append(df6, ignore_index = True)\n",
        "\n",
        "df.insert(1, \"Population_Density (km^2)\", [27757, 3160, 14158, 8001, 13022], True)\n",
        "df.insert(1, \"Hospitilization Count\", [11949, 4532, 24027, 25083, 18196], True)\n",
        "\n",
        "df.insert(2, \"Population\", [1628706, 476143, 2559903, 2253858, 1418207])\n",
        "\n",
        "# df['Hos_by_pop'] = (df['Hospitilization Count'] / df['Population']).astype(float) * 100\n",
        "# df['Covid_case_by_pop'] = (df['COVID_CASE_COUNT'] / df['Population']).astype(float)\n",
        "\n",
        "# df['Hos_by_pop'] = (df['Hospitilization Count'] / df['Population_Density (km^2)']).astype(float)\n",
        "# df['Covid_case_by_pop'] = (df['COVID_CASE_COUNT'] / df['Population']).astype(float)\n",
        "\n",
        "#df.insert(1, \"Hospitalization by Population density\", [])\n",
        "\n",
        "df.head()"
      ],
      "execution_count": null,
      "outputs": []
    },
    {
      "cell_type": "code",
      "metadata": {
        "id": "h4NBrdYrM4-n"
      },
      "source": [
        "bullshit_borough_names = {'Q': 'Queens', 'M': 'Manhattan', 'Bk': 'Brooklyn', 'Bx': 'Bronx', 'SI': 'Staten Island'}"
      ],
      "execution_count": 56,
      "outputs": []
    },
    {
      "cell_type": "code",
      "metadata": {
        "id": "6jalIQJYSTlH"
      },
      "source": [
        ""
      ],
      "execution_count": null,
      "outputs": []
    },
    {
      "cell_type": "code",
      "metadata": {
        "id": "dS0G90k7vm_K"
      },
      "source": [
        "x = df[\"BOROUGH_GROUP\"]\n",
        "y = df[\"COVID_CASE_RATE\"]\n",
        "\n",
        "plt.plot(x,y)"
      ],
      "execution_count": null,
      "outputs": []
    },
    {
      "cell_type": "code",
      "metadata": {
        "id": "fJPVnY1Dz34w"
      },
      "source": [
        "df.plot.scatter(x = \"BOROUGH_GROUP\", y = \"Hos_by_pop\")"
      ],
      "execution_count": null,
      "outputs": []
    },
    {
      "cell_type": "code",
      "metadata": {
        "id": "HYpVmLPpuj-l"
      },
      "source": [
        "df = pd.read_csv('data-by-modzcta.csv', sep=',')\n",
        "#columns_to_drop = ['DEATH_COUNT', 'DEATH_RATE']\n",
        "#df.drop(columns= columns_to_drop,inplace=True)\n",
        "df.head()"
      ],
      "execution_count": null,
      "outputs": []
    }
  ]
}