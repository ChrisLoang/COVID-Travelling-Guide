{
  "nbformat": 4,
  "nbformat_minor": 0,
  "metadata": {
    "kernelspec": {
      "display_name": "Python 3",
      "language": "python",
      "name": "python3"
    },
    "language_info": {
      "codemirror_mode": {
        "name": "ipython",
        "version": 3
      },
      "file_extension": ".py",
      "mimetype": "text/x-python",
      "name": "python",
      "nbconvert_exporter": "python",
      "pygments_lexer": "ipython3",
      "version": "3.8.5"
    },
    "colab": {
      "name": "Covid19inNYC.ipynb",
      "provenance": []
    }
  },
  "cells": [
    {
      "cell_type": "code",
      "metadata": {
        "id": "CU2v3d-Muj-i"
      },
      "source": [
        "import pandas as pd\n",
        "import numpy as np\n",
        "import csv\n",
        "import matplotlib.pyplot as plt\n",
        "import itertools\n",
        "import traindatanyc as tdn"
      ],
      "execution_count": 157,
      "outputs": []
    },
    {
      "cell_type": "code",
      "metadata": {
        "id": "EZxQbaqMuj-k",
        "outputId": "5e0cca8c-fc61-4b60-9adc-64d6e78530e7",
        "colab": {
          "base_uri": "https://localhost:8080/",
          "height": 241
        }
      },
      "source": [
        "df = pd.read_csv('data-by-modzcta.csv', sep=',')\n",
        "columns_to_drop = ['COVID_DEATH_COUNT', 'COVID_DEATH_RATE','NEIGHBORHOOD_NAME', 'MODIFIED_ZCTA', 'PERCENT_POSITIVE']\n",
        "df.drop(columns= columns_to_drop,inplace=True)\n",
        "\n",
        "Mh_total_CCC = df.loc[df['BOROUGH_GROUP'] == 'Manhattan', 'COVID_CASE_COUNT'].sum()\n",
        "Si_total_CCC = df.loc[df['BOROUGH_GROUP'] == 'Staten Island', 'COVID_CASE_COUNT'].sum()\n",
        "Bk_total_CCC = df.loc[df['BOROUGH_GROUP'] == 'Brooklyn', 'COVID_CASE_COUNT'].sum()\n",
        "Q_total_CCC = df.loc[df['BOROUGH_GROUP'] == 'Queens', 'COVID_CASE_COUNT'].sum()\n",
        "Bx_total_CCC = df.loc[df['BOROUGH_GROUP'] == 'Bronx', 'COVID_CASE_COUNT'].sum()\n",
        "\n",
        "Mh_total_TCT = df.loc[df['BOROUGH_GROUP'] == 'Manhattan', 'TOTAL_COVID_TESTS'].sum()\n",
        "Si_total_TCT = df.loc[df['BOROUGH_GROUP'] == 'Staten Island', 'TOTAL_COVID_TESTS'].sum()\n",
        "Bk_total_TCT = df.loc[df['BOROUGH_GROUP'] == 'Brooklyn', 'TOTAL_COVID_TESTS'].sum()\n",
        "Q_total_TCT = df.loc[df['BOROUGH_GROUP'] == 'Queens', 'TOTAL_COVID_TESTS'].sum()\n",
        "Bx_total_TCT = df.loc[df['BOROUGH_GROUP'] == 'Bronx', 'TOTAL_COVID_TESTS'].sum()\n",
        "\n",
        "Mh_total_CCR = df.loc[df['BOROUGH_GROUP'] == 'Manhattan', 'COVID_CASE_RATE'].sum()\n",
        "Si_total_CCR = df.loc[df['BOROUGH_GROUP'] == 'Staten Island', 'COVID_CASE_RATE'].sum()\n",
        "Bk_total_CCR = df.loc[df['BOROUGH_GROUP'] == 'Brooklyn', 'COVID_CASE_RATE'].sum()\n",
        "Q_total_CCR = df.loc[df['BOROUGH_GROUP'] == 'Queens', 'COVID_CASE_RATE'].sum()\n",
        "Bx_total_CCR = df.loc[df['BOROUGH_GROUP'] == 'Bronx', 'COVID_CASE_RATE'].sum()\n",
        "\n",
        "Mh_total_PD = df.loc[df['BOROUGH_GROUP'] == 'Manhattan', 'POP_DENOMINATOR'].sum()\n",
        "Si_total_PD = df.loc[df['BOROUGH_GROUP'] == 'Staten Island', 'POP_DENOMINATOR'].sum()\n",
        "Bk_total_PD = df.loc[df['BOROUGH_GROUP'] == 'Brooklyn', 'POP_DENOMINATOR'].sum()\n",
        "Q_total_PD = df.loc[df['BOROUGH_GROUP'] == 'Queens', 'POP_DENOMINATOR'].sum()\n",
        "Bx_total_PD = df.loc[df['BOROUGH_GROUP'] == 'Bronx', 'POP_DENOMINATOR'].sum()\n",
        "\n",
        "df = df[0:0]\n",
        "\n",
        "Mh_total_CCR = (Mh_total_CCC/Mh_total_PD)*100\n",
        "Si_total_CCR = (Si_total_CCC/Si_total_PD)*100\n",
        "Bk_total_CCR = (Bk_total_CCC/Bk_total_PD)*100\n",
        "Q_total_CCR = (Q_total_CCC/Q_total_PD)*100\n",
        "Bx_total_CCR = (Bx_total_CCC/Bx_total_PD)*100\n",
        "\n",
        "df2 = {'BOROUGH_GROUP': 'Manhattan',  'COVID_CASE_COUNT': Mh_total_CCC,  'COVID_CASE_RATE': Mh_total_CCR, 'POP_DENOMINATOR': Mh_total_PD, 'TOTAL_COVID_TESTS': Mh_total_TCT} \n",
        "df = df.append(df2, ignore_index = True)\n",
        "df3 = {'BOROUGH_GROUP': 'Staten Island',  'COVID_CASE_COUNT': Si_total_CCC,  'COVID_CASE_RATE': Si_total_CCR, 'POP_DENOMINATOR': Si_total_PD, 'TOTAL_COVID_TESTS': Si_total_TCT} \n",
        "df = df.append(df3, ignore_index = True)\n",
        "df4 = {'BOROUGH_GROUP': 'Brooklyn',  'COVID_CASE_COUNT': Bk_total_CCC,  'COVID_CASE_RATE': Bk_total_CCR, 'POP_DENOMINATOR': Bk_total_PD, 'TOTAL_COVID_TESTS': Bk_total_TCT} \n",
        "df = df.append(df4, ignore_index = True)\n",
        "df5 = {'BOROUGH_GROUP': 'Queens',  'COVID_CASE_COUNT': Q_total_CCC,  'COVID_CASE_RATE': Q_total_CCR, 'POP_DENOMINATOR': Q_total_PD, 'TOTAL_COVID_TESTS': Q_total_TCT} \n",
        "df = df.append(df5, ignore_index = True)\n",
        "df6 = {'BOROUGH_GROUP': 'Bronx',  'COVID_CASE_COUNT': Bx_total_CCC,  'COVID_CASE_RATE': Bx_total_CCR, 'POP_DENOMINATOR': Bx_total_PD, 'TOTAL_COVID_TESTS': Bx_total_TCT} \n",
        "df = df.append(df6, ignore_index = True)\n",
        "\n",
        "df.insert(1, \"Population_Density (km^2)\", [27757, 3160, 14158, 8001, 13022], True)\n",
        "df.insert(1, \"Hospitilization Count\", [11949, 4532, 24027, 25083, 18196], True)\n",
        "\n",
        "df.insert(2, \"Population\", [1628706, 476143, 2559903, 2253858, 1418207])\n",
        "\n",
        "# df['Hos_by_pop'] = (df['Hospitilization Count'] / df['Population']).astype(float) * 100\n",
        "# df['Covid_case_by_pop'] = (df['COVID_CASE_COUNT'] / df['Population']).astype(float)\n",
        "\n",
        "# df['Hos_by_pop'] = (df['Hospitilization Count'] / df['Population_Density (km^2)']).astype(float)\n",
        "# df['Covid_case_by_pop'] = (df['COVID_CASE_COUNT'] / df['Population']).astype(float)\n",
        "\n",
        "#df.insert(1, \"Hospitalization by Population density\", [])\n",
        "\n",
        "df.head()"
      ],
      "execution_count": 158,
      "outputs": [
        {
          "output_type": "execute_result",
          "data": {
            "text/html": [
              "<div>\n",
              "<style scoped>\n",
              "    .dataframe tbody tr th:only-of-type {\n",
              "        vertical-align: middle;\n",
              "    }\n",
              "\n",
              "    .dataframe tbody tr th {\n",
              "        vertical-align: top;\n",
              "    }\n",
              "\n",
              "    .dataframe thead th {\n",
              "        text-align: right;\n",
              "    }\n",
              "</style>\n",
              "<table border=\"1\" class=\"dataframe\">\n",
              "  <thead>\n",
              "    <tr style=\"text-align: right;\">\n",
              "      <th></th>\n",
              "      <th>BOROUGH_GROUP</th>\n",
              "      <th>Hospitilization Count</th>\n",
              "      <th>Population</th>\n",
              "      <th>Population_Density (km^2)</th>\n",
              "      <th>COVID_CASE_COUNT</th>\n",
              "      <th>COVID_CASE_RATE</th>\n",
              "      <th>POP_DENOMINATOR</th>\n",
              "      <th>TOTAL_COVID_TESTS</th>\n",
              "    </tr>\n",
              "  </thead>\n",
              "  <tbody>\n",
              "    <tr>\n",
              "      <th>0</th>\n",
              "      <td>Manhattan</td>\n",
              "      <td>11949</td>\n",
              "      <td>1628706</td>\n",
              "      <td>27757</td>\n",
              "      <td>73341</td>\n",
              "      <td>4.551327</td>\n",
              "      <td>1611420.18</td>\n",
              "      <td>962572</td>\n",
              "    </tr>\n",
              "    <tr>\n",
              "      <th>1</th>\n",
              "      <td>Staten Island</td>\n",
              "      <td>4532</td>\n",
              "      <td>476143</td>\n",
              "      <td>3160</td>\n",
              "      <td>44113</td>\n",
              "      <td>9.264654</td>\n",
              "      <td>476143.00</td>\n",
              "      <td>272692</td>\n",
              "    </tr>\n",
              "    <tr>\n",
              "      <th>2</th>\n",
              "      <td>Brooklyn</td>\n",
              "      <td>24027</td>\n",
              "      <td>2559903</td>\n",
              "      <td>14158</td>\n",
              "      <td>156216</td>\n",
              "      <td>6.102419</td>\n",
              "      <td>2559903.02</td>\n",
              "      <td>1311023</td>\n",
              "    </tr>\n",
              "    <tr>\n",
              "      <th>3</th>\n",
              "      <td>Queens</td>\n",
              "      <td>25083</td>\n",
              "      <td>2253858</td>\n",
              "      <td>8001</td>\n",
              "      <td>157280</td>\n",
              "      <td>6.933735</td>\n",
              "      <td>2268330.27</td>\n",
              "      <td>1163920</td>\n",
              "    </tr>\n",
              "    <tr>\n",
              "      <th>4</th>\n",
              "      <td>Bronx</td>\n",
              "      <td>18196</td>\n",
              "      <td>1418207</td>\n",
              "      <td>13022</td>\n",
              "      <td>107727</td>\n",
              "      <td>7.580960</td>\n",
              "      <td>1421020.59</td>\n",
              "      <td>749857</td>\n",
              "    </tr>\n",
              "  </tbody>\n",
              "</table>\n",
              "</div>"
            ],
            "text/plain": [
              "   BOROUGH_GROUP  Hospitilization Count  ...  POP_DENOMINATOR  TOTAL_COVID_TESTS\n",
              "0      Manhattan                  11949  ...       1611420.18             962572\n",
              "1  Staten Island                   4532  ...        476143.00             272692\n",
              "2       Brooklyn                  24027  ...       2559903.02            1311023\n",
              "3         Queens                  25083  ...       2268330.27            1163920\n",
              "4          Bronx                  18196  ...       1421020.59             749857\n",
              "\n",
              "[5 rows x 8 columns]"
            ]
          },
          "metadata": {
            "tags": []
          },
          "execution_count": 158
        }
      ]
    },
    {
      "cell_type": "code",
      "metadata": {
        "id": "h4NBrdYrM4-n"
      },
      "source": [
        "ori_dict = tdn.NYCturnstileDictionary()\r\n",
        "\r\n",
        "corrected_dict['Queens'] = ori_dict.pop('Q')\r\n",
        "corrected_dict['Manhattan'] = ori_dict.pop('M')\r\n",
        "corrected_dict['Brooklyn'] = ori_dict.pop('Bk')\r\n",
        "corrected_dict['Bronx'] = ori_dict.pop('Bx')\r\n",
        "corrected_dict['Staten Island'] = ori_dict.pop('SI')\r\n",
        "\r\n",
        "\r\n",
        "corrected_dict"
      ],
      "execution_count": null,
      "outputs": []
    },
    {
      "cell_type": "code",
      "metadata": {
        "id": "6jalIQJYSTlH",
        "outputId": "93a51375-e6a0-477e-fb0f-1c97fa11d95a",
        "colab": {
          "base_uri": "https://localhost:8080/",
          "height": 86
        }
      },
      "source": [
        "\"\"\"\r\n",
        "index= []\r\n",
        "data = []\r\n",
        "for i, (key, val) in enumerate(corrected_dict.items()):\r\n",
        "    index.append(key)\r\n",
        "    data.append(list(map(float, val)))\r\n",
        "\r\n",
        "fig, (ax, ax2) = plt.subplots(ncols=2)\r\n",
        "ax.boxplot(data)\r\n",
        "ax.set_xticklabels(index)\r\n",
        "ax2.violinplot(data)\r\n",
        "ax2.set_xticks(range(1,len(index)+1))\r\n",
        "ax2.set_xticklabels(index) \r\n",
        "\r\n",
        "plt.show()*/\r\n",
        "\"\"\""
      ],
      "execution_count": 208,
      "outputs": [
        {
          "output_type": "execute_result",
          "data": {
            "application/vnd.google.colaboratory.intrinsic+json": {
              "type": "string"
            },
            "text/plain": [
              "'\\nindex= []\\ndata = []\\nfor i, (key, val) in enumerate(corrected_dict.items()):\\n    index.append(key)\\n    data.append(list(map(float, val)))\\n\\nfig, (ax, ax2) = plt.subplots(ncols=2)\\nax.boxplot(data)\\nax.set_xticklabels(index)\\nax2.violinplot(data)\\nax2.set_xticks(range(1,len(index)+1))\\nax2.set_xticklabels(index) \\n\\nplt.show()*/\\n'"
            ]
          },
          "metadata": {
            "tags": []
          },
          "execution_count": 208
        }
      ]
    },
    {
      "cell_type": "code",
      "metadata": {
        "id": "dS0G90k7vm_K",
        "outputId": "bb9387a9-3f61-4040-d8ad-40c379566114",
        "colab": {
          "base_uri": "https://localhost:8080/",
          "height": 282
        }
      },
      "source": [
        "x = df[\"BOROUGH_GROUP\"]\n",
        "y = df[\"COVID_CASE_RATE\"]\n",
        "\n",
        "plt.plot(x,y)"
      ],
      "execution_count": 26,
      "outputs": [
        {
          "output_type": "execute_result",
          "data": {
            "text/plain": [
              "[<matplotlib.lines.Line2D at 0x7fe09ab202e8>]"
            ]
          },
          "metadata": {
            "tags": []
          },
          "execution_count": 26
        },
        {
          "output_type": "display_data",
          "data": {
            "image/png": "[encoded data removed]",
            "text/plain": [
              "<Figure size 432x288 with 1 Axes>"
            ]
          },
          "metadata": {
            "tags": [],
            "needs_background": "light"
          }
        }
      ]
    },
    {
      "cell_type": "code",
      "metadata": {
        "id": "fJPVnY1Dz34w"
      },
      "source": [
        "df.plot.scatter(x = \"BOROUGH_GROUP\", y = \"Hos_by_pop\")"
      ],
      "execution_count": null,
      "outputs": []
    },
    {
      "cell_type": "code",
      "metadata": {
        "id": "HYpVmLPpuj-l"
      },
      "source": [
        "df = pd.read_csv('data-by-modzcta.csv', sep=',')\n",
        "#columns_to_drop = ['DEATH_COUNT', 'DEATH_RATE']\n",
        "#df.drop(columns= columns_to_drop,inplace=True)\n",
        "df.head()"
      ],
      "execution_count": null,
      "outputs": []
    }
  ]
}